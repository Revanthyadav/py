{
 "cells": [
  {
   "cell_type": "code",
   "execution_count": 3,
   "metadata": {},
   "outputs": [],
   "source": [
    "##spiraling square\n",
    "from turtle import *\n",
    "t=turtle.Turtle()\n",
    "t.pencolor('red')\n",
    "for x in range(100):\n",
    "    t.forward(x)\n",
    "    t.left(90)"
   ]
  },
  {
   "cell_type": "code",
   "execution_count": 1,
   "metadata": {},
   "outputs": [],
   "source": [
    "import turtle \n",
    "\n",
    "turtle.color(\"green\")\n",
    "turtle.begin_fill()\n",
    "turtle.circle(130,360)\n",
    "turtle.end_fill()\n",
    "turtle.hideturtle()\n",
    "turtle.color(\"orange\")\n",
    "turtle.begin_fill()\n",
    "turtle.circle(130,180)\n",
    "turtle.end_fill()\n",
    "turtle.hideturtle()\n"
   ]
  },
  {
   "cell_type": "code",
   "execution_count": null,
   "metadata": {},
   "outputs": [],
   "source": []
  }
 ],
 "metadata": {
  "kernelspec": {
   "display_name": "Python 3",
   "language": "python",
   "name": "python3"
  },
  "language_info": {
   "codemirror_mode": {
    "name": "ipython",
    "version": 3
   },
   "file_extension": ".py",
   "mimetype": "text/x-python",
   "name": "python",
   "nbconvert_exporter": "python",
   "pygments_lexer": "ipython3",
   "version": "3.7.3"
  }
 },
 "nbformat": 4,
 "nbformat_minor": 2
}
